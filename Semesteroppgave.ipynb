{
 "cells": [
  {
   "cell_type": "code",
   "execution_count": null,
   "id": "ce7a1950-a3a7-4323-86e7-3c0c8749b390",
   "metadata": {
    "tags": []
   },
   "outputs": [
    {
     "name": "stdout",
     "output_type": "stream",
     "text": [
      "Lånebeløp\n"
     ]
    }
   ],
   "source": [
    "import numpy as np\n",
    "import matplotlib.pyplot as plt\n",
    "import pandas as pd\n",
    "\n",
    "# Lager inputs der brukeren kan taste inn verdiene sine\n",
    "def Verdier():\n",
    "    print(\"Lånebeløp\")\n",
    "    låne_sum = float(input())\n",
    "    print(\"Nedbetalingsår\")\n",
    "    låne_periode = float(input())\n",
    "    lån_termin = int(12*låne_periode)\n",
    "    print(\"Rente\")\n",
    "    lån_rente = float(input())\n",
    "    return låne_sum, låne_periode, lån_termin, lån_rente\n",
    "\n",
    "def Kalk(låne_sum, låne_periode, lån_termin, lån_rente):   \n",
    "    R = 1 + (lån_rente/100)/12\n",
    "    X = låne_sum*(R**lån_termin)*(1-R)/(1-R**lån_termin) # Funksjon for annuitetslån\n",
    "    Månedlig_rente = []\n",
    "    Månedlig_saldo = []\n",
    "    \n",
    "    for i in range(1, lån_termin+1):\n",
    "        Rente = låne_sum*(R-1)\n",
    "        låne_sum = låne_sum-(X-Rente)\n",
    "        Månedlig_rente = np.append(Månedlig_rente,Rente)\n",
    "        Månedlig_saldo = np.append(Månedlig_saldo, låne_sum)\n",
    "    # Skriver ut hva beløpene blir\n",
    "    print(\"Den årlige renten på dette lånet er: = \" +str(lån_rente)+str(' %'))\n",
    "    print(\"Lengden på lånet i måneder er: = \" + str(lån_termin)+str(' måneder'))\n",
    "    print(\"Månedlige betalinger for dette lånet blir på: = \" +str(np.round(X,2)) + str(' Kr')) # Bruker round til å avrunde til to desimaler\n",
    "    print(\"Den totale summen av renter betalt blir: = \" + str(np.round(np.sum(Månedlig_rente),2)))\n",
    "\n",
    "    # Prøver å plotte terminbeløp og rente i graf\n",
    "    \n",
    "    plt.plot(range(1, lån_termin+1), Månedlig_rente, lw=2)\n",
    "    plt.axhline(y=X, color='red')\n",
    "    plt.xlabel('Måned')\n",
    "    plt.ylabel('Månedlig rentebeløp (Kr)')\n",
    "    plt.show()   \n",
    "    return X, R\n",
    "        \n",
    "def Terminbeløp_tabell (X, lån_termin, R, låne_sum, lån_rente):\n",
    "    overskrift = '{0:10}{1:10}{2:10}{3:10}{4:20s}'\n",
    "    verdier = '{0:5d}{1:12,.2f}{2:10,.2f}{3:12,.2f}{4:12,.2f}'\n",
    "    print(overskrift.format('Betaling', 'Beløp', 'Rente', 'Avdrag', 'Restlån'))\n",
    "    Restlån = abs(låne_sum)\n",
    "    for Betaling in range(1, int(lån_termin)+1):\n",
    "        Renter = abs(Restlån) * abs(lån_rente* .1/lån_termin)\n",
    "        Avdrag = abs(X) - abs(Renter)\n",
    "        Restlån -= abs(Avdrag)\n",
    "        print(verdier.format(Betaling, X, Renter, Avdrag, Restlån))\n",
    "        \n",
    "def Regn(): \n",
    "    låne_sum, låne_periode, lån_termin, lån_rente = Verdier()\n",
    "    X, R = Kalk(låne_sum, låne_periode, lån_termin, lån_rente)\n",
    "    Terminbeløp_tabell(X, lån_termin, R, låne_sum, lån_rente)\n",
    "\n",
    "Regn()\n",
    "  \n",
    "      "
   ]
  }
 ],
 "metadata": {
  "kernelspec": {
   "display_name": "Python 3 (ipykernel)",
   "language": "python",
   "name": "python3"
  },
  "language_info": {
   "codemirror_mode": {
    "name": "ipython",
    "version": 3
   },
   "file_extension": ".py",
   "mimetype": "text/x-python",
   "name": "python",
   "nbconvert_exporter": "python",
   "pygments_lexer": "ipython3",
   "version": "3.9.5"
  }
 },
 "nbformat": 4,
 "nbformat_minor": 5
}
