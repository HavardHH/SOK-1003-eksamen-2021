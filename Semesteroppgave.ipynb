{
 "cells": [
  {
   "cell_type": "code",
   "execution_count": 43,
   "id": "ce7a1950-a3a7-4323-86e7-3c0c8749b390",
   "metadata": {
    "tags": []
   },
   "outputs": [
    {
     "name": "stdout",
     "output_type": "stream",
     "text": [
      "Lånebeløp\n"
     ]
    },
    {
     "name": "stdin",
     "output_type": "stream",
     "text": [
      " 1000000\n"
     ]
    },
    {
     "name": "stdout",
     "output_type": "stream",
     "text": [
      "Nedbetalingsår\n"
     ]
    },
    {
     "name": "stdin",
     "output_type": "stream",
     "text": [
      " 2\n"
     ]
    },
    {
     "name": "stdout",
     "output_type": "stream",
     "text": [
      "Rente\n"
     ]
    },
    {
     "name": "stdin",
     "output_type": "stream",
     "text": [
      " 5\n"
     ]
    },
    {
     "name": "stdout",
     "output_type": "stream",
     "text": [
      "Den årlige renten på dette lånet er: = 5.0 %\n",
      "Lengden på lånet i måneder er: = 24 måneder\n",
      "Månedlige betalinger for dette lånet blir på: = 43871.39 Kr\n",
      "Den totale summen av renter betalt blir: = 52913.35\n"
     ]
    },
    {
     "data": {
      "image/png": "[encoded data removed]",
      "text/plain": [
       "<Figure size 432x288 with 1 Axes>"
      ]
     },
     "metadata": {
      "needs_background": "light"
     },
     "output_type": "display_data"
    },
    {
     "name": "stdout",
     "output_type": "stream",
     "text": [
      "Betaling  Beløp     Rente     Avdrag    Restlån             \n",
      "    1   43,871.391,004,166.67 -960,295.28   39,704.72\n",
      "    2   43,871.39 39,870.16    4,001.23   35,703.49\n",
      "    3   43,871.39 35,852.26    8,019.13   27,684.36\n",
      "    4   43,871.39 27,799.71   16,071.68   11,612.68\n",
      "    5   43,871.39 11,661.07   32,210.32  -20,597.64\n",
      "    6   43,871.39 20,683.46   23,187.93  -43,785.57\n",
      "    7   43,871.39 43,968.01      -96.62  -43,882.18\n",
      "    8   43,871.39 44,065.03     -193.64  -44,075.82\n",
      "    9   43,871.39 44,259.47     -388.08  -44,463.90\n",
      "   10   43,871.39 44,649.16     -777.77  -45,241.67\n",
      "   11   43,871.39 45,430.17   -1,558.78  -46,800.45\n",
      "   12   43,871.39 46,995.45   -3,124.06  -49,924.52\n",
      "   13   43,871.39 50,132.53   -6,261.14  -56,185.66\n",
      "   14   43,871.39 56,419.77  -12,548.38  -68,734.04\n",
      "   15   43,871.39 69,020.43  -25,149.04  -93,883.07\n",
      "   16   43,871.39 94,274.25  -50,402.86 -144,285.94\n",
      "   17   43,871.39144,887.13 -101,015.74 -245,301.67\n",
      "   18   43,871.39246,323.76 -202,452.37 -447,754.05\n",
      "   19   43,871.39449,619.69 -405,748.30 -853,502.35\n",
      "   20   43,871.39857,058.60 -813,187.22-1,666,689.56\n",
      "   21   43,871.391,673,634.10-1,629,762.71-3,296,452.27\n",
      "   22   43,871.393,310,187.49-3,266,316.10-6,562,768.37\n",
      "   23   43,871.396,590,113.24-6,546,241.85-13,109,010.22\n",
      "   24   43,871.3913,163,631.09-13,119,759.70-26,228,769.92\n"
     ]
    }
   ],
   "source": [
    "import numpy as np\n",
    "import matplotlib.pyplot as plt\n",
    "import pandas as pd\n",
    "\n",
    "# Lager inputs der brukeren kan taste inn verdiene sine\n",
    "def Verdier():\n",
    "    print(\"Lånebeløp\")\n",
    "    låne_sum = float(input())\n",
    "    print(\"Nedbetalingsår\")\n",
    "    låne_periode = float(input())\n",
    "    lån_termin = int(12*låne_periode)\n",
    "    print(\"Rente\")\n",
    "    lån_rente = float(input())\n",
    "    return låne_sum, låne_periode, lån_termin, lån_rente\n",
    "\n",
    "def Kalk(låne_sum, låne_periode, lån_termin, lån_rente):   \n",
    "    R = 1 + (lån_rente)/(12*100)\n",
    "    X = låne_sum*(R**lån_termin)*(1-R)/(1-R**lån_termin) # Funksjon for annuitetslån\n",
    "    Månedlig_rente = []\n",
    "    Månedlig_saldo = []\n",
    "    \n",
    "    for i in range(1, lån_termin+1):\n",
    "        Rente = låne_sum*(R-1)\n",
    "        låne_sum = låne_sum-(X-Rente)\n",
    "        Månedlig_rente = np.append(Månedlig_rente,Rente)\n",
    "        Månedlig_saldo = np.append(Månedlig_saldo, låne_sum)\n",
    "    # Skriver ut hva beløpene blir\n",
    "    print(\"Den årlige renten på dette lånet er: = \" +str(lån_rente)+str(' %'))\n",
    "    print(\"Lengden på lånet i måneder er: = \" + str(lån_termin)+str(' måneder'))\n",
    "    print(\"Månedlige betalinger for dette lånet blir på: = \" +str(np.round(X,2)) + str(' Kr')) # Bruker round til å avrunde til to desimaler\n",
    "    print(\"Den totale summen av renter betalt blir: = \" + str(np.round(np.sum(Månedlig_rente),2)))\n",
    "\n",
    "    # Prøver å plotte terminbeløp og rente i graf\n",
    "    \n",
    "    plt.plot(range(1, lån_termin+1), Månedlig_rente, lw=2)\n",
    "    plt.axhline(y=X, color='red')\n",
    "    plt.xlabel('Måned')\n",
    "    plt.ylabel('Månedlig rentebeløp (Kr)')\n",
    "    plt.show()   \n",
    "    return X, R\n",
    "        \n",
    "def Terminbeløp_tabell (X, lån_termin, R, låne_sum):\n",
    "    overskrift = '{0:10}{1:10}{2:10}{3:10}{4:20s}'\n",
    "    verdier = '{0:5d}{1:12,.2f}{2:10,.2f}{3:12,.2f}{4:12,.2f}'\n",
    "    print(overskrift.format('Betaling', 'Beløp', 'Rente', 'Avdrag', 'Restlån'))\n",
    "    Restlån = abs(låne_sum)\n",
    "    for Betaling in range(1, int(lån_termin)+1):\n",
    "        Renter = abs(Restlån) * abs(R)\n",
    "        Avdrag = abs(X) - abs(Renter)\n",
    "        Restlån -= abs(Avdrag)\n",
    "        print(verdier.format(Betaling, X, Renter, Avdrag, Restlån))\n",
    "        \n",
    "def Regn(): \n",
    "    låne_sum, låne_periode, lån_termin, lån_rente = Verdier()\n",
    "    X, R = Kalk(låne_sum, låne_periode, lån_termin, lån_rente)\n",
    "    Terminbeløp_tabell(X, lån_termin, R, låne_sum)\n",
    "\n",
    "Regn()\n",
    "  \n",
    "    "
   ]
  }
 ],
 "metadata": {
  "kernelspec": {
   "display_name": "Python 3 (ipykernel)",
   "language": "python",
   "name": "python3"
  },
  "language_info": {
   "codemirror_mode": {
    "name": "ipython",
    "version": 3
   },
   "file_extension": ".py",
   "mimetype": "text/x-python",
   "name": "python",
   "nbconvert_exporter": "python",
   "pygments_lexer": "ipython3",
   "version": "3.9.5"
  }
 },
 "nbformat": 4,
 "nbformat_minor": 5
}
