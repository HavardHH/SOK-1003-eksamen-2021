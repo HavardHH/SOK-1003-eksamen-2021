{
 "cells": [
  {
   "cell_type": "code",
   "execution_count": 14,
   "id": "a6c0dbbc-4afe-4ec5-89fd-42c9238bfb02",
   "metadata": {
    "tags": []
   },
   "outputs": [
    {
     "name": "stdin",
     "output_type": "stream",
     "text": [
      "Skriv ønsket lånesum 1000000\n",
      "Hvor mange år ønsker du å nedbetale lånet? 10\n",
      "Skriv renten som er på lånet, der f.eks 4 er 4% 2\n"
     ]
    },
    {
     "name": "stdout",
     "output_type": "stream",
     "text": [
      "Den årlige renten på dette lånet er: = 2.0 %\n",
      "Lengden på lånet i måneder er: = 120 måneder\n",
      "Månedlige betalinger for dette lånet blir på: = 9201.35 Kr\n",
      "Den totale summen av renter betalt blir: = 104161.45\n"
     ]
    },
    {
     "data": {
      "image/png": "[encoded data removed]",
      "text/plain": [
       "<Figure size 432x288 with 1 Axes>"
      ]
     },
     "metadata": {
      "needs_background": "light"
     },
     "output_type": "display_data"
    }
   ],
   "source": [
    "import numpy as np\n",
    "import matplotlib.pyplot as plt\n",
    "import pandas as pd\n",
    "\n",
    "# Lager inputs der brukeren kan taste inn verdiene sine\n",
    "def annuitet_kalkulator():\n",
    "    låne_sum=float(input('Skriv ønsket lånesum'))\n",
    "    låne_periode=float(input('Hvor mange år ønsker du å nedbetale lånet?'))\n",
    "    lån_termin=int(12*låne_periode)\n",
    "    lån_rente=float(input('Skriv renten som er på lånet, der f.eks 4 er 4%'))\n",
    "\n",
    "R = 1 + (lån_rente)/(12*100)\n",
    "X = låne_sum*(R**lån_termin)*(1-R)/(1-R**lån_termin) # Funksjon for annuitetslån\n",
    "\n",
    "Månedlig_rente = []\n",
    "Månedlig_saldo = []\n",
    "\n",
    "for i in range(1, lån_termin+1):\n",
    "    Rente = låne_sum*(R-1)\n",
    "    låne_sum = låne_sum-(X-Rente)\n",
    "    Månedlig_rente = np.append(Månedlig_rente,Rente)\n",
    "    Månedlig_saldo = np.append(Månedlig_saldo, låne_sum)\n",
    "    \n",
    "# Skriver ut hva beløpene blir\n",
    "    \n",
    "print(\"Den årlige renten på dette lånet er: = \" +str(lån_rente)+str(' %'))\n",
    "print(\"Lengden på lånet i måneder er: = \" + str(lån_termin)+str(' måneder'))\n",
    "print(\"Månedlige betalinger for dette lånet blir på: = \" +str(np.round(X,2)) + str(' Kr')) # Bruker round til å avrunde til to desimaler\n",
    "print(\"Den totale summen av renter betalt blir: = \" + str(np.round(np.sum(Månedlig_rente),2)))\n",
    "\n",
    "# Prøver å plotte terminbeløp og rente i graf\n",
    "\n",
    "plt.plot(range(1, lån_termin+1),Månedlig_rente, lw=2)\n",
    "plt.plot(X)\n",
    "plt.xlabel('Måned')\n",
    "plt.ylabel('Månedlig rentebeløp (Kr)')\n",
    "plt.show()   \n"
   ]
  },
  {
   "cell_type": "code",
   "execution_count": 13,
   "id": "d15526df-032b-41d9-8e09-88feb1103742",
   "metadata": {},
   "outputs": [
    {
     "data": {
      "text/plain": [
       "9201.345384256088"
      ]
     },
     "execution_count": 13,
     "metadata": {},
     "output_type": "execute_result"
    }
   ],
   "source": [
    "X"
   ]
  },
  {
   "cell_type": "code",
   "execution_count": null,
   "id": "34eef8f1-d9f7-4472-a9d6-ac2eabb0a704",
   "metadata": {},
   "outputs": [],
   "source": []
  }
 ],
 "metadata": {
  "kernelspec": {
   "display_name": "Python 3 (ipykernel)",
   "language": "python",
   "name": "python3"
  },
  "language_info": {
   "codemirror_mode": {
    "name": "ipython",
    "version": 3
   },
   "file_extension": ".py",
   "mimetype": "text/x-python",
   "name": "python",
   "nbconvert_exporter": "python",
   "pygments_lexer": "ipython3",
   "version": "3.9.5"
  }
 },
 "nbformat": 4,
 "nbformat_minor": 5
}
